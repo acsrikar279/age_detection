{
 "cells": [
  {
   "cell_type": "code",
   "execution_count": 1,
   "metadata": {},
   "outputs": [
    {
     "name": "stderr",
     "output_type": "stream",
     "text": [
      "/usr/local/lib/python2.7/dist-packages/h5py/__init__.py:36: FutureWarning: Conversion of the second argument of issubdtype from `float` to `np.floating` is deprecated. In future, it will be treated as `np.float64 == np.dtype(float).type`.\n",
      "  from ._conv import register_converters as _register_converters\n",
      "Using TensorFlow backend.\n"
     ]
    }
   ],
   "source": [
    "from keras.models import Sequential\n",
    "from keras import layers\n",
    "import pandas as pd\n",
    "import numpy as np\n",
    "import matplotlib.pyplot as plt\n",
    "%matplotlib inline"
   ]
  },
  {
   "cell_type": "code",
   "execution_count": 2,
   "metadata": {},
   "outputs": [
    {
     "name": "stdout",
     "output_type": "stream",
     "text": [
      "_________________________________________________________________\n",
      "Layer (type)                 Output Shape              Param #   \n",
      "=================================================================\n",
      "conv2d_1 (Conv2D)            (None, 60, 60, 128)       9728      \n",
      "_________________________________________________________________\n",
      "max_pooling2d_1 (MaxPooling2 (None, 30, 30, 128)       0         \n",
      "_________________________________________________________________\n",
      "conv2d_2 (Conv2D)            (None, 28, 28, 128)       147584    \n",
      "_________________________________________________________________\n",
      "max_pooling2d_2 (MaxPooling2 (None, 14, 14, 128)       0         \n",
      "_________________________________________________________________\n",
      "flatten_1 (Flatten)          (None, 25088)             0         \n",
      "_________________________________________________________________\n",
      "dense_1 (Dense)              (None, 128)               3211392   \n",
      "_________________________________________________________________\n",
      "dense_2 (Dense)              (None, 3)                 387       \n",
      "=================================================================\n",
      "Total params: 3,369,091\n",
      "Trainable params: 3,369,091\n",
      "Non-trainable params: 0\n",
      "_________________________________________________________________\n"
     ]
    }
   ],
   "source": [
    "model=Sequential()\n",
    "\n",
    "model.add(layers.Conv2D(128,(5,5),activation='relu',input_shape=(64,64,3)))\n",
    "\n",
    "model.add(layers.MaxPool2D(pool_size=(2,2)))\n",
    "\n",
    "model.add(layers.Conv2D(128,(3,3),activation='relu'))\n",
    "\n",
    "model.add(layers.MaxPool2D(pool_size=(2,2)))\n",
    "\n",
    "model.add(layers.Flatten())\n",
    "\n",
    "model.add(layers.Dense(units = 128, activation = 'relu'))\n",
    "model.add(layers.Dense(units = 3, activation = 'softmax'))\n",
    "\n",
    "model.summary()"
   ]
  },
  {
   "cell_type": "markdown",
   "metadata": {},
   "source": [
    "## Getting data"
   ]
  },
  {
   "cell_type": "code",
   "execution_count": 3,
   "metadata": {},
   "outputs": [],
   "source": [
    "path='/home/acsrikar/Desktop/age_detection/data/train/'"
   ]
  },
  {
   "cell_type": "code",
   "execution_count": 4,
   "metadata": {},
   "outputs": [],
   "source": [
    "train_data=pd.read_csv('/home/acsrikar/Desktop/age_detection/data/train.csv')"
   ]
  },
  {
   "cell_type": "code",
   "execution_count": 5,
   "metadata": {},
   "outputs": [
    {
     "data": {
      "text/html": [
       "<div>\n",
       "<style scoped>\n",
       "    .dataframe tbody tr th:only-of-type {\n",
       "        vertical-align: middle;\n",
       "    }\n",
       "\n",
       "    .dataframe tbody tr th {\n",
       "        vertical-align: top;\n",
       "    }\n",
       "\n",
       "    .dataframe thead th {\n",
       "        text-align: right;\n",
       "    }\n",
       "</style>\n",
       "<table border=\"1\" class=\"dataframe\">\n",
       "  <thead>\n",
       "    <tr style=\"text-align: right;\">\n",
       "      <th></th>\n",
       "      <th>ID</th>\n",
       "      <th>Class</th>\n",
       "    </tr>\n",
       "  </thead>\n",
       "  <tbody>\n",
       "    <tr>\n",
       "      <th>0</th>\n",
       "      <td>377.jpg</td>\n",
       "      <td>MIDDLE</td>\n",
       "    </tr>\n",
       "    <tr>\n",
       "      <th>1</th>\n",
       "      <td>17814.jpg</td>\n",
       "      <td>YOUNG</td>\n",
       "    </tr>\n",
       "    <tr>\n",
       "      <th>2</th>\n",
       "      <td>21283.jpg</td>\n",
       "      <td>MIDDLE</td>\n",
       "    </tr>\n",
       "    <tr>\n",
       "      <th>3</th>\n",
       "      <td>16496.jpg</td>\n",
       "      <td>YOUNG</td>\n",
       "    </tr>\n",
       "    <tr>\n",
       "      <th>4</th>\n",
       "      <td>4487.jpg</td>\n",
       "      <td>MIDDLE</td>\n",
       "    </tr>\n",
       "  </tbody>\n",
       "</table>\n",
       "</div>"
      ],
      "text/plain": [
       "          ID   Class\n",
       "0    377.jpg  MIDDLE\n",
       "1  17814.jpg   YOUNG\n",
       "2  21283.jpg  MIDDLE\n",
       "3  16496.jpg   YOUNG\n",
       "4   4487.jpg  MIDDLE"
      ]
     },
     "execution_count": 5,
     "metadata": {},
     "output_type": "execute_result"
    }
   ],
   "source": [
    "train_data.head()"
   ]
  },
  {
   "cell_type": "code",
   "execution_count": 6,
   "metadata": {},
   "outputs": [],
   "source": [
    "li=list(train_data['ID'])"
   ]
  },
  {
   "cell_type": "code",
   "execution_count": 7,
   "metadata": {},
   "outputs": [
    {
     "data": {
      "text/plain": [
       "['377.jpg', '17814.jpg', '21283.jpg', '16496.jpg', '4487.jpg']"
      ]
     },
     "execution_count": 7,
     "metadata": {},
     "output_type": "execute_result"
    }
   ],
   "source": [
    "li[:5]"
   ]
  },
  {
   "cell_type": "code",
   "execution_count": 8,
   "metadata": {},
   "outputs": [],
   "source": [
    "train_labels=list(train_data['Class'])"
   ]
  },
  {
   "cell_type": "code",
   "execution_count": 9,
   "metadata": {},
   "outputs": [],
   "source": [
    "from keras.preprocessing.image import load_img\n",
    "from keras.preprocessing import image"
   ]
  },
  {
   "cell_type": "code",
   "execution_count": 10,
   "metadata": {},
   "outputs": [
    {
     "name": "stdout",
     "output_type": "stream",
     "text": [
      "CPU times: user 14.4 s, sys: 485 ms, total: 14.9 s\n",
      "Wall time: 15 s\n"
     ]
    }
   ],
   "source": [
    "%%time\n",
    "train_feature_array=[]\n",
    "for i in range(len(li)):\n",
    "    img_path=path+li[i]\n",
    "    img=load_img(img_path,target_size=(64,64))\n",
    "    train_feature_array.append(image.img_to_array(img))"
   ]
  },
  {
   "cell_type": "code",
   "execution_count": 11,
   "metadata": {},
   "outputs": [
    {
     "data": {
      "text/plain": [
       "list"
      ]
     },
     "execution_count": 11,
     "metadata": {},
     "output_type": "execute_result"
    }
   ],
   "source": [
    "type(train_feature_array)"
   ]
  },
  {
   "cell_type": "code",
   "execution_count": 12,
   "metadata": {},
   "outputs": [
    {
     "data": {
      "text/plain": [
       "['MIDDLE', 'YOUNG', 'MIDDLE', 'YOUNG', 'MIDDLE']"
      ]
     },
     "execution_count": 12,
     "metadata": {},
     "output_type": "execute_result"
    }
   ],
   "source": [
    "train_labels[:5]"
   ]
  },
  {
   "cell_type": "code",
   "execution_count": 13,
   "metadata": {},
   "outputs": [
    {
     "data": {
      "text/plain": [
       "19906"
      ]
     },
     "execution_count": 13,
     "metadata": {},
     "output_type": "execute_result"
    }
   ],
   "source": [
    "len(train_feature_array)"
   ]
  },
  {
   "cell_type": "code",
   "execution_count": 14,
   "metadata": {},
   "outputs": [],
   "source": [
    "train_features=np.array(train_feature_array)\n",
    "model.compile(optimizer='adam',loss='categorical_crossentropy',metrics=['acc'])"
   ]
  },
  {
   "cell_type": "markdown",
   "metadata": {},
   "source": [
    "## Encoding"
   ]
  },
  {
   "cell_type": "code",
   "execution_count": 15,
   "metadata": {},
   "outputs": [],
   "source": [
    "label=pd.get_dummies(train_labels)"
   ]
  },
  {
   "cell_type": "code",
   "execution_count": 16,
   "metadata": {},
   "outputs": [
    {
     "data": {
      "text/html": [
       "<div>\n",
       "<style scoped>\n",
       "    .dataframe tbody tr th:only-of-type {\n",
       "        vertical-align: middle;\n",
       "    }\n",
       "\n",
       "    .dataframe tbody tr th {\n",
       "        vertical-align: top;\n",
       "    }\n",
       "\n",
       "    .dataframe thead th {\n",
       "        text-align: right;\n",
       "    }\n",
       "</style>\n",
       "<table border=\"1\" class=\"dataframe\">\n",
       "  <thead>\n",
       "    <tr style=\"text-align: right;\">\n",
       "      <th></th>\n",
       "      <th>MIDDLE</th>\n",
       "      <th>OLD</th>\n",
       "      <th>YOUNG</th>\n",
       "    </tr>\n",
       "  </thead>\n",
       "  <tbody>\n",
       "    <tr>\n",
       "      <th>0</th>\n",
       "      <td>1</td>\n",
       "      <td>0</td>\n",
       "      <td>0</td>\n",
       "    </tr>\n",
       "    <tr>\n",
       "      <th>1</th>\n",
       "      <td>0</td>\n",
       "      <td>0</td>\n",
       "      <td>1</td>\n",
       "    </tr>\n",
       "    <tr>\n",
       "      <th>2</th>\n",
       "      <td>1</td>\n",
       "      <td>0</td>\n",
       "      <td>0</td>\n",
       "    </tr>\n",
       "    <tr>\n",
       "      <th>3</th>\n",
       "      <td>0</td>\n",
       "      <td>0</td>\n",
       "      <td>1</td>\n",
       "    </tr>\n",
       "    <tr>\n",
       "      <th>4</th>\n",
       "      <td>1</td>\n",
       "      <td>0</td>\n",
       "      <td>0</td>\n",
       "    </tr>\n",
       "  </tbody>\n",
       "</table>\n",
       "</div>"
      ],
      "text/plain": [
       "   MIDDLE  OLD  YOUNG\n",
       "0       1    0      0\n",
       "1       0    0      1\n",
       "2       1    0      0\n",
       "3       0    0      1\n",
       "4       1    0      0"
      ]
     },
     "execution_count": 16,
     "metadata": {},
     "output_type": "execute_result"
    }
   ],
   "source": [
    "label.head()"
   ]
  },
  {
   "cell_type": "code",
   "execution_count": 17,
   "metadata": {},
   "outputs": [],
   "source": [
    "train_labels_final1=label.values"
   ]
  },
  {
   "cell_type": "code",
   "execution_count": 18,
   "metadata": {},
   "outputs": [
    {
     "data": {
      "text/plain": [
       "array([[1, 0, 0],\n",
       "       [0, 0, 1],\n",
       "       [1, 0, 0],\n",
       "       ...,\n",
       "       [1, 0, 0],\n",
       "       [1, 0, 0],\n",
       "       [1, 0, 0]], dtype=uint8)"
      ]
     },
     "execution_count": 18,
     "metadata": {},
     "output_type": "execute_result"
    }
   ],
   "source": [
    "train_labels_final1"
   ]
  },
  {
   "cell_type": "code",
   "execution_count": 19,
   "metadata": {},
   "outputs": [
    {
     "data": {
      "text/plain": [
       "numpy.ndarray"
      ]
     },
     "execution_count": 19,
     "metadata": {},
     "output_type": "execute_result"
    }
   ],
   "source": [
    "type(train_labels_final1)"
   ]
  },
  {
   "cell_type": "code",
   "execution_count": 20,
   "metadata": {},
   "outputs": [
    {
     "data": {
      "text/plain": [
       "(19906, 3)"
      ]
     },
     "execution_count": 20,
     "metadata": {},
     "output_type": "execute_result"
    }
   ],
   "source": [
    "train_labels_final1.shape"
   ]
  },
  {
   "cell_type": "markdown",
   "metadata": {},
   "source": [
    "## Fitting the model "
   ]
  },
  {
   "cell_type": "code",
   "execution_count": 21,
   "metadata": {},
   "outputs": [
    {
     "name": "stdout",
     "output_type": "stream",
     "text": [
      "Epoch 1/50\n",
      "19906/19906 [==============================] - 11s 560us/step - loss: 10.6577 - acc: 0.3386\n",
      "Epoch 2/50\n",
      "19906/19906 [==============================] - 9s 477us/step - loss: 10.6882 - acc: 0.3369\n",
      "Epoch 3/50\n",
      "19906/19906 [==============================] - 9s 476us/step - loss: 10.6882 - acc: 0.3369\n",
      "Epoch 4/50\n",
      "19906/19906 [==============================] - 10s 479us/step - loss: 10.6882 - acc: 0.3369\n",
      "Epoch 5/50\n",
      "19906/19906 [==============================] - 10s 479us/step - loss: 10.6882 - acc: 0.3369\n",
      "Epoch 6/50\n",
      "19906/19906 [==============================] - 10s 478us/step - loss: 10.6882 - acc: 0.3369\n",
      "Epoch 7/50\n",
      "19906/19906 [==============================] - 10s 478us/step - loss: 10.6882 - acc: 0.3369\n",
      "Epoch 8/50\n",
      "19906/19906 [==============================] - 10s 483us/step - loss: 10.6882 - acc: 0.3369\n",
      "Epoch 9/50\n",
      "19906/19906 [==============================] - 10s 485us/step - loss: 10.6882 - acc: 0.3369\n",
      "Epoch 10/50\n",
      "19906/19906 [==============================] - 10s 485us/step - loss: 10.6882 - acc: 0.3369\n",
      "Epoch 11/50\n",
      "19906/19906 [==============================] - 10s 485us/step - loss: 10.6882 - acc: 0.3369\n",
      "Epoch 12/50\n",
      "19906/19906 [==============================] - 10s 484us/step - loss: 10.6882 - acc: 0.3369\n",
      "Epoch 13/50\n",
      "19906/19906 [==============================] - 10s 484us/step - loss: 10.6882 - acc: 0.3369\n",
      "Epoch 14/50\n",
      "19906/19906 [==============================] - 10s 483us/step - loss: 10.6882 - acc: 0.3369\n",
      "Epoch 15/50\n",
      "19906/19906 [==============================] - 10s 480us/step - loss: 10.6882 - acc: 0.3369\n",
      "Epoch 16/50\n",
      "19906/19906 [==============================] - 10s 483us/step - loss: 10.6882 - acc: 0.3369\n",
      "Epoch 17/50\n",
      "19906/19906 [==============================] - 10s 482us/step - loss: 10.6882 - acc: 0.3369\n",
      "Epoch 18/50\n",
      "19906/19906 [==============================] - 10s 482us/step - loss: 10.6882 - acc: 0.3369\n",
      "Epoch 19/50\n",
      "19906/19906 [==============================] - 10s 481us/step - loss: 10.6882 - acc: 0.3369\n",
      "Epoch 20/50\n",
      "19906/19906 [==============================] - 10s 482us/step - loss: 10.6882 - acc: 0.3369\n",
      "Epoch 21/50\n",
      "19906/19906 [==============================] - 10s 480us/step - loss: 10.6882 - acc: 0.3369\n",
      "Epoch 22/50\n",
      "19906/19906 [==============================] - 10s 481us/step - loss: 10.6882 - acc: 0.3369\n",
      "Epoch 23/50\n",
      "19906/19906 [==============================] - 10s 481us/step - loss: 10.6882 - acc: 0.3369\n",
      "Epoch 24/50\n",
      "19906/19906 [==============================] - 10s 480us/step - loss: 10.6882 - acc: 0.3369\n",
      "Epoch 25/50\n",
      "19906/19906 [==============================] - 10s 481us/step - loss: 10.6882 - acc: 0.3369\n",
      "Epoch 26/50\n",
      "19906/19906 [==============================] - 10s 481us/step - loss: 10.6882 - acc: 0.3369\n",
      "Epoch 27/50\n",
      "19906/19906 [==============================] - 10s 481us/step - loss: 10.6882 - acc: 0.3369\n",
      "Epoch 28/50\n",
      "19906/19906 [==============================] - 10s 480us/step - loss: 10.6882 - acc: 0.3369\n",
      "Epoch 29/50\n",
      "19906/19906 [==============================] - 10s 481us/step - loss: 10.6882 - acc: 0.3369\n",
      "Epoch 30/50\n",
      "19906/19906 [==============================] - 10s 481us/step - loss: 10.6882 - acc: 0.3369\n",
      "Epoch 31/50\n",
      "19906/19906 [==============================] - 10s 481us/step - loss: 10.6882 - acc: 0.3369\n",
      "Epoch 32/50\n",
      "19906/19906 [==============================] - 10s 481us/step - loss: 10.6882 - acc: 0.3369\n",
      "Epoch 33/50\n",
      "19906/19906 [==============================] - 10s 483us/step - loss: 10.6882 - acc: 0.3369\n",
      "Epoch 34/50\n",
      "19906/19906 [==============================] - 10s 481us/step - loss: 10.6882 - acc: 0.3369\n",
      "Epoch 35/50\n",
      "19906/19906 [==============================] - 10s 481us/step - loss: 10.6882 - acc: 0.3369\n",
      "Epoch 36/50\n",
      "19906/19906 [==============================] - 10s 480us/step - loss: 10.6882 - acc: 0.3369\n",
      "Epoch 37/50\n",
      "19906/19906 [==============================] - 10s 480us/step - loss: 10.6882 - acc: 0.3369\n",
      "Epoch 38/50\n",
      "19906/19906 [==============================] - 10s 480us/step - loss: 10.6882 - acc: 0.3369\n",
      "Epoch 39/50\n",
      "19906/19906 [==============================] - 10s 481us/step - loss: 10.6882 - acc: 0.3369\n",
      "Epoch 40/50\n",
      "19906/19906 [==============================] - 10s 480us/step - loss: 10.6882 - acc: 0.3369\n",
      "Epoch 41/50\n",
      "19906/19906 [==============================] - 10s 481us/step - loss: 10.6882 - acc: 0.3369\n",
      "Epoch 42/50\n",
      "19906/19906 [==============================] - 10s 482us/step - loss: 10.6882 - acc: 0.3369\n",
      "Epoch 43/50\n",
      "19906/19906 [==============================] - 10s 481us/step - loss: 10.6882 - acc: 0.3369\n",
      "Epoch 44/50\n",
      "19906/19906 [==============================] - 10s 481us/step - loss: 10.6882 - acc: 0.3369\n",
      "Epoch 45/50\n",
      "19906/19906 [==============================] - 10s 480us/step - loss: 10.6882 - acc: 0.3369\n",
      "Epoch 46/50\n",
      "19906/19906 [==============================] - 10s 481us/step - loss: 10.6882 - acc: 0.3369\n",
      "Epoch 47/50\n",
      "19906/19906 [==============================] - 10s 481us/step - loss: 10.6882 - acc: 0.3369\n",
      "Epoch 48/50\n",
      "19906/19906 [==============================] - 10s 480us/step - loss: 10.6882 - acc: 0.3369\n",
      "Epoch 49/50\n",
      "19906/19906 [==============================] - 10s 480us/step - loss: 10.6882 - acc: 0.3369\n",
      "Epoch 50/50\n",
      "19906/19906 [==============================] - 10s 480us/step - loss: 10.6882 - acc: 0.3369\n"
     ]
    },
    {
     "data": {
      "text/plain": [
       "<keras.callbacks.History at 0x7ff680d434d0>"
      ]
     },
     "execution_count": 21,
     "metadata": {},
     "output_type": "execute_result"
    }
   ],
   "source": [
    "model.fit(train_features,train_labels_final1,batch_size=128,epochs=50)"
   ]
  },
  {
   "cell_type": "code",
   "execution_count": null,
   "metadata": {},
   "outputs": [],
   "source": []
  }
 ],
 "metadata": {
  "kernelspec": {
   "display_name": "Python 2",
   "language": "python",
   "name": "python2"
  },
  "language_info": {
   "codemirror_mode": {
    "name": "ipython",
    "version": 2
   },
   "file_extension": ".py",
   "mimetype": "text/x-python",
   "name": "python",
   "nbconvert_exporter": "python",
   "pygments_lexer": "ipython2",
   "version": "2.7.12"
  }
 },
 "nbformat": 4,
 "nbformat_minor": 2
}
